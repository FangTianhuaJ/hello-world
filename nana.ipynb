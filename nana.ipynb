{
 "cells": [
  {
   "cell_type": "code",
   "execution_count": 7,
   "metadata": {},
   "outputs": [
    {
     "data": {
      "text/plain": [
       "(28201, 9)"
      ]
     },
     "execution_count": 7,
     "metadata": {},
     "output_type": "execute_result"
    }
   ],
   "source": [
    "import pandas as pd\n",
    "import matplotlib.pyplot as plt\n",
    "df=pd.read_csv('D:/Gabriel/1.csv',sep=',')\n",
    "df.shape"
   ]
  },
  {
   "cell_type": "code",
   "execution_count": 11,
   "metadata": {
    "scrolled": false
   },
   "outputs": [
    {
     "data": {
      "text/html": [
       "<div>\n",
       "<style scoped>\n",
       "    .dataframe tbody tr th:only-of-type {\n",
       "        vertical-align: middle;\n",
       "    }\n",
       "\n",
       "    .dataframe tbody tr th {\n",
       "        vertical-align: top;\n",
       "    }\n",
       "\n",
       "    .dataframe thead th {\n",
       "        text-align: right;\n",
       "    }\n",
       "</style>\n",
       "<table border=\"1\" class=\"dataframe\">\n",
       "  <thead>\n",
       "    <tr style=\"text-align: right;\">\n",
       "      <th></th>\n",
       "      <th>小区名称</th>\n",
       "      <th>户型</th>\n",
       "      <th>面积</th>\n",
       "      <th>区域</th>\n",
       "      <th>楼层</th>\n",
       "      <th>朝向</th>\n",
       "      <th>价格（W）</th>\n",
       "      <th>单价（平方米）</th>\n",
       "      <th>建筑时间</th>\n",
       "    </tr>\n",
       "  </thead>\n",
       "  <tbody>\n",
       "    <tr>\n",
       "      <td>0</td>\n",
       "      <td>梅园六街坊</td>\n",
       "      <td>2室0厅</td>\n",
       "      <td>47.72</td>\n",
       "      <td>浦东</td>\n",
       "      <td>低区/6层</td>\n",
       "      <td>朝南</td>\n",
       "      <td>500</td>\n",
       "      <td>104777</td>\n",
       "      <td>1992年建</td>\n",
       "    </tr>\n",
       "    <tr>\n",
       "      <td>1</td>\n",
       "      <td>碧云新天地（一期）</td>\n",
       "      <td>3室2厅</td>\n",
       "      <td>108.93</td>\n",
       "      <td>浦东</td>\n",
       "      <td>低区/6层</td>\n",
       "      <td>朝南</td>\n",
       "      <td>735</td>\n",
       "      <td>67474</td>\n",
       "      <td>2002年建</td>\n",
       "    </tr>\n",
       "    <tr>\n",
       "      <td>2</td>\n",
       "      <td>博山小区</td>\n",
       "      <td>1室1厅</td>\n",
       "      <td>43.79</td>\n",
       "      <td>浦东</td>\n",
       "      <td>中区/6层</td>\n",
       "      <td>朝南</td>\n",
       "      <td>260</td>\n",
       "      <td>59374</td>\n",
       "      <td>1988年建</td>\n",
       "    </tr>\n",
       "    <tr>\n",
       "      <td>3</td>\n",
       "      <td>金桥新村四街坊（博兴路986弄）</td>\n",
       "      <td>1室1厅</td>\n",
       "      <td>41.66</td>\n",
       "      <td>浦东</td>\n",
       "      <td>中区/6层</td>\n",
       "      <td>朝南北</td>\n",
       "      <td>280</td>\n",
       "      <td>67210</td>\n",
       "      <td>1997年建</td>\n",
       "    </tr>\n",
       "    <tr>\n",
       "      <td>4</td>\n",
       "      <td>博山小区</td>\n",
       "      <td>1室0厅</td>\n",
       "      <td>39.77</td>\n",
       "      <td>浦东</td>\n",
       "      <td>高区/6层</td>\n",
       "      <td>朝南</td>\n",
       "      <td>235</td>\n",
       "      <td>59089</td>\n",
       "      <td>1987年建</td>\n",
       "    </tr>\n",
       "  </tbody>\n",
       "</table>\n",
       "</div>"
      ],
      "text/plain": [
       "               小区名称    户型      面积  区域     楼层   朝向  价格（W）  单价（平方米）    建筑时间\n",
       "0             梅园六街坊  2室0厅   47.72  浦东  低区/6层   朝南    500   104777  1992年建\n",
       "1         碧云新天地（一期）  3室2厅  108.93  浦东  低区/6层   朝南    735    67474  2002年建\n",
       "2              博山小区  1室1厅   43.79  浦东  中区/6层   朝南    260    59374  1988年建\n",
       "3  金桥新村四街坊（博兴路986弄）  1室1厅   41.66  浦东  中区/6层  朝南北    280    67210  1997年建\n",
       "4              博山小区  1室0厅   39.77  浦东  高区/6层   朝南    235    59089  1987年建"
      ]
     },
     "execution_count": 11,
     "metadata": {},
     "output_type": "execute_result"
    }
   ],
   "source": [
    "df.head(5)"
   ]
  },
  {
   "cell_type": "code",
   "execution_count": 152,
   "metadata": {},
   "outputs": [
    {
     "name": "stdout",
     "output_type": "stream",
     "text": [
      "<class 'pandas.core.frame.DataFrame'>\n",
      "RangeIndex: 28201 entries, 0 to 28200\n",
      "Data columns (total 9 columns):\n",
      "小区名称       28201 non-null object\n",
      "户型         28201 non-null object\n",
      "面积         28201 non-null float64\n",
      "区域         28201 non-null object\n",
      "楼层         28201 non-null object\n",
      "朝向         26846 non-null object\n",
      "价格（W）      28201 non-null int64\n",
      "单价（平方米）    28201 non-null int64\n",
      "建筑时间       21985 non-null object\n",
      "dtypes: float64(1), int64(2), object(6)\n",
      "memory usage: 1.9+ MB\n"
     ]
    }
   ],
   "source": [
    "df.info()"
   ]
  },
  {
   "cell_type": "code",
   "execution_count": 198,
   "metadata": {},
   "outputs": [
    {
     "data": {
      "text/plain": [
       "<BarContainer object of 9 artists>"
      ]
     },
     "execution_count": 198,
     "metadata": {},
     "output_type": "execute_result"
    },
    {
     "data": {
      "image/png": "[encoded data removed]",
      "text/plain": [
       "<Figure size 432x288 with 1 Axes>"
      ]
     },
     "metadata": {
      "needs_background": "light"
     },
     "output_type": "display_data"
    }
   ],
   "source": [
    "a1=a[a.values>1000]\n",
    "a1.index.insert(8,'other')\n",
    "a1['other']=sum(a[a.values<=1000])\n",
    "plt.bar(a1.index,a1.values)"
   ]
  },
  {
   "cell_type": "code",
   "execution_count": 274,
   "metadata": {},
   "outputs": [
    {
     "data": {
      "text/plain": [
       "2室2厅     6271\n",
       "2室1厅     6244\n",
       "3室2厅     6100\n",
       "1室1厅     3585\n",
       "3室1厅     1229\n",
       "4室2厅     1160\n",
       "1室0厅     1116\n",
       "2室0厅     1013\n",
       "other    1483\n",
       "Name: 户型, dtype: int64"
      ]
     },
     "execution_count": 274,
     "metadata": {},
     "output_type": "execute_result"
    },
    {
     "data": {
      "image/png": "[encoded data removed]",
      "text/plain": [
       "<Figure size 432x288 with 1 Axes>"
      ]
     },
     "metadata": {},
     "output_type": "display_data"
    }
   ],
   "source": [
    "plt.pie(a1.values,explode=[0.1,0.1,0.1,0,0,0,0,0,0],labels=a1.index,autopct='%.1f%%',shadow=True,startangle=90)\n",
    "a1\n",
    "plt.axis('equal')#正圆形"
   ]
  },
  {
   "cell_type": "code",
   "execution_count": 142,
   "metadata": {},
   "outputs": [
    {
     "data": {
      "text/plain": [
       "2室2厅    6271\n",
       "2室1厅    6244\n",
       "3室2厅    6100\n",
       "1室1厅    3585\n",
       "3室1厅    1229\n",
       "4室2厅    1160\n",
       "1室0厅    1116\n",
       "2室0厅    1013\n",
       "Name: 户型, dtype: int64"
      ]
     },
     "execution_count": 142,
     "metadata": {},
     "output_type": "execute_result"
    }
   ],
   "source": [
    "a[a.values>1000]"
   ]
  },
  {
   "cell_type": "code",
   "execution_count": 125,
   "metadata": {},
   "outputs": [
    {
     "data": {
      "text/html": [
       "<div>\n",
       "<style scoped>\n",
       "    .dataframe tbody tr th:only-of-type {\n",
       "        vertical-align: middle;\n",
       "    }\n",
       "\n",
       "    .dataframe tbody tr th {\n",
       "        vertical-align: top;\n",
       "    }\n",
       "\n",
       "    .dataframe thead th {\n",
       "        text-align: right;\n",
       "    }\n",
       "</style>\n",
       "<table border=\"1\" class=\"dataframe\">\n",
       "  <thead>\n",
       "    <tr style=\"text-align: right;\">\n",
       "      <th></th>\n",
       "      <th>小区名称</th>\n",
       "      <th>户型</th>\n",
       "      <th>面积</th>\n",
       "      <th>区域</th>\n",
       "      <th>楼层</th>\n",
       "      <th>朝向</th>\n",
       "      <th>价格（W）</th>\n",
       "      <th>单价（平方米）</th>\n",
       "      <th>建筑时间</th>\n",
       "    </tr>\n",
       "  </thead>\n",
       "  <tbody>\n",
       "    <tr>\n",
       "      <td>0</td>\n",
       "      <td>梅园六街坊</td>\n",
       "      <td>2室0厅</td>\n",
       "      <td>47.72</td>\n",
       "      <td>浦东</td>\n",
       "      <td>低区/6层</td>\n",
       "      <td>朝南</td>\n",
       "      <td>500</td>\n",
       "      <td>104777</td>\n",
       "      <td>1992年建</td>\n",
       "    </tr>\n",
       "    <tr>\n",
       "      <td>1</td>\n",
       "      <td>碧云新天地（一期）</td>\n",
       "      <td>3室2厅</td>\n",
       "      <td>108.93</td>\n",
       "      <td>浦东</td>\n",
       "      <td>低区/6层</td>\n",
       "      <td>朝南</td>\n",
       "      <td>735</td>\n",
       "      <td>67474</td>\n",
       "      <td>2002年建</td>\n",
       "    </tr>\n",
       "    <tr>\n",
       "      <td>2</td>\n",
       "      <td>博山小区</td>\n",
       "      <td>1室1厅</td>\n",
       "      <td>43.79</td>\n",
       "      <td>浦东</td>\n",
       "      <td>中区/6层</td>\n",
       "      <td>朝南</td>\n",
       "      <td>260</td>\n",
       "      <td>59374</td>\n",
       "      <td>1988年建</td>\n",
       "    </tr>\n",
       "  </tbody>\n",
       "</table>\n",
       "</div>"
      ],
      "text/plain": [
       "        小区名称    户型      面积  区域     楼层  朝向  价格（W）  单价（平方米）    建筑时间\n",
       "0      梅园六街坊  2室0厅   47.72  浦东  低区/6层  朝南    500   104777  1992年建\n",
       "1  碧云新天地（一期）  3室2厅  108.93  浦东  低区/6层  朝南    735    67474  2002年建\n",
       "2       博山小区  1室1厅   43.79  浦东  中区/6层  朝南    260    59374  1988年建"
      ]
     },
     "execution_count": 125,
     "metadata": {},
     "output_type": "execute_result"
    }
   ],
   "source": [
    "df.head(3)"
   ]
  },
  {
   "cell_type": "code",
   "execution_count": 202,
   "metadata": {},
   "outputs": [
    {
     "data": {
      "text/plain": [
       "<BarContainer object of 11576 artists>"
      ]
     },
     "execution_count": 202,
     "metadata": {},
     "output_type": "execute_result"
    },
    {
     "data": {
      "image/png": "[encoded data removed]",
      "text/plain": [
       "<Figure size 432x288 with 1 Axes>"
      ]
     },
     "metadata": {
      "needs_background": "light"
     },
     "output_type": "display_data"
    }
   ],
   "source": [
    "plt.bar(df['面积'].value_counts().index,df['面积'].value_counts().values)"
   ]
  },
  {
   "cell_type": "code",
   "execution_count": 195,
   "metadata": {},
   "outputs": [
    {
     "data": {
      "text/plain": [
       "<BarContainer object of 17 artists>"
      ]
     },
     "execution_count": 195,
     "metadata": {},
     "output_type": "execute_result"
    },
    {
     "data": {
      "image/png": "[encoded data removed]",
      "text/plain": [
       "<Figure size 432x288 with 1 Axes>"
      ]
     },
     "metadata": {
      "needs_background": "light"
     },
     "output_type": "display_data"
    }
   ],
   "source": [
    "import matplotlib\n",
    "matplotlib.rcParams['font.family']='SimHei'\n",
    "matplotlib.rcParams['font.size']=10\n",
    "plt.bar(df['区域'].value_counts().index,df['区域'].value_counts().values)"
   ]
  },
  {
   "cell_type": "code",
   "execution_count": 196,
   "metadata": {},
   "outputs": [
    {
     "data": {
      "text/plain": [
       "<BarContainer object of 14 artists>"
      ]
     },
     "execution_count": 196,
     "metadata": {},
     "output_type": "execute_result"
    },
    {
     "data": {
      "image/png": "[encoded data removed]",
      "text/plain": [
       "<Figure size 432x288 with 1 Axes>"
      ]
     },
     "metadata": {
      "needs_background": "light"
     },
     "output_type": "display_data"
    }
   ],
   "source": [
    "l=df['楼层'].value_counts()\n",
    "l1=l[l.cumsum()<l.sum()*0.6]\n",
    "plt.bar(l1.index,l1.values)"
   ]
  },
  {
   "cell_type": "code",
   "execution_count": 165,
   "metadata": {
    "scrolled": false
   },
   "outputs": [
    {
     "data": {
      "text/plain": [
       "<BarContainer object of 21 artists>"
      ]
     },
     "execution_count": 165,
     "metadata": {},
     "output_type": "execute_result"
    },
    {
     "data": {
      "image/png": "[encoded data removed]",
      "text/plain": [
       "<Figure size 432x288 with 1 Axes>"
      ]
     },
     "metadata": {
      "needs_background": "light"
     },
     "output_type": "display_data"
    }
   ],
   "source": [
    "plt.bar(df['朝向'].value_counts().index,df['朝向'].value_counts().values)"
   ]
  },
  {
   "cell_type": "code",
   "execution_count": 197,
   "metadata": {},
   "outputs": [
    {
     "data": {
      "text/plain": [
       "<BarContainer object of 10 artists>"
      ]
     },
     "execution_count": 197,
     "metadata": {},
     "output_type": "execute_result"
    },
    {
     "data": {
      "image/png": "[encoded data removed]",
      "text/plain": [
       "<Figure size 432x288 with 1 Axes>"
      ]
     },
     "metadata": {
      "needs_background": "light"
     },
     "output_type": "display_data"
    }
   ],
   "source": [
    "d=df['朝向'].value_counts()\n",
    "d1=d[d>d.median()]\n",
    "plt.bar(d1.index,d1.values)"
   ]
  },
  {
   "cell_type": "code",
   "execution_count": 208,
   "metadata": {},
   "outputs": [
    {
     "data": {
      "text/plain": [
       "{'whiskers': [<matplotlib.lines.Line2D at 0x209365d5c18>,\n",
       "  <matplotlib.lines.Line2D at 0x209365d5fd0>],\n",
       " 'caps': [<matplotlib.lines.Line2D at 0x209365d5f60>,\n",
       "  <matplotlib.lines.Line2D at 0x209365e46a0>],\n",
       " 'boxes': [<matplotlib.lines.Line2D at 0x209365d5860>],\n",
       " 'medians': [<matplotlib.lines.Line2D at 0x209365e49e8>],\n",
       " 'fliers': [<matplotlib.lines.Line2D at 0x209365e4d30>],\n",
       " 'means': []}"
      ]
     },
     "execution_count": 208,
     "metadata": {},
     "output_type": "execute_result"
    },
    {
     "data": {
      "image/png": "[encoded data removed]",
      "text/plain": [
       "<Figure size 432x288 with 1 Axes>"
      ]
     },
     "metadata": {
      "needs_background": "light"
     },
     "output_type": "display_data"
    }
   ],
   "source": [
    "plt.boxplot(df['单价（平方米）'])"
   ]
  },
  {
   "cell_type": "code",
   "execution_count": 97,
   "metadata": {},
   "outputs": [
    {
     "data": {
      "text/html": [
       "<div>\n",
       "<style scoped>\n",
       "    .dataframe tbody tr th:only-of-type {\n",
       "        vertical-align: middle;\n",
       "    }\n",
       "\n",
       "    .dataframe tbody tr th {\n",
       "        vertical-align: top;\n",
       "    }\n",
       "\n",
       "    .dataframe thead th {\n",
       "        text-align: right;\n",
       "    }\n",
       "</style>\n",
       "<table border=\"1\" class=\"dataframe\">\n",
       "  <thead>\n",
       "    <tr style=\"text-align: right;\">\n",
       "      <th></th>\n",
       "      <th>面积</th>\n",
       "      <th>价格（W）</th>\n",
       "      <th>单价（平方米）</th>\n",
       "    </tr>\n",
       "  </thead>\n",
       "  <tbody>\n",
       "    <tr>\n",
       "      <td>count</td>\n",
       "      <td>28201.000000</td>\n",
       "      <td>28201.000000</td>\n",
       "      <td>28201.000000</td>\n",
       "    </tr>\n",
       "    <tr>\n",
       "      <td>mean</td>\n",
       "      <td>96.218136</td>\n",
       "      <td>580.274458</td>\n",
       "      <td>59725.836034</td>\n",
       "    </tr>\n",
       "    <tr>\n",
       "      <td>std</td>\n",
       "      <td>60.819286</td>\n",
       "      <td>486.980354</td>\n",
       "      <td>21039.354067</td>\n",
       "    </tr>\n",
       "    <tr>\n",
       "      <td>min</td>\n",
       "      <td>21.110000</td>\n",
       "      <td>50.000000</td>\n",
       "      <td>8996.000000</td>\n",
       "    </tr>\n",
       "    <tr>\n",
       "      <td>25%</td>\n",
       "      <td>58.870000</td>\n",
       "      <td>315.000000</td>\n",
       "      <td>44943.000000</td>\n",
       "    </tr>\n",
       "    <tr>\n",
       "      <td>50%</td>\n",
       "      <td>85.410000</td>\n",
       "      <td>430.000000</td>\n",
       "      <td>58068.000000</td>\n",
       "    </tr>\n",
       "    <tr>\n",
       "      <td>75%</td>\n",
       "      <td>116.150000</td>\n",
       "      <td>700.000000</td>\n",
       "      <td>71740.000000</td>\n",
       "    </tr>\n",
       "    <tr>\n",
       "      <td>max</td>\n",
       "      <td>1832.580000</td>\n",
       "      <td>11200.000000</td>\n",
       "      <td>199639.000000</td>\n",
       "    </tr>\n",
       "  </tbody>\n",
       "</table>\n",
       "</div>"
      ],
      "text/plain": [
       "                 面积         价格（W）        单价（平方米）\n",
       "count  28201.000000  28201.000000   28201.000000\n",
       "mean      96.218136    580.274458   59725.836034\n",
       "std       60.819286    486.980354   21039.354067\n",
       "min       21.110000     50.000000    8996.000000\n",
       "25%       58.870000    315.000000   44943.000000\n",
       "50%       85.410000    430.000000   58068.000000\n",
       "75%      116.150000    700.000000   71740.000000\n",
       "max     1832.580000  11200.000000  199639.000000"
      ]
     },
     "execution_count": 97,
     "metadata": {},
     "output_type": "execute_result"
    }
   ],
   "source": [
    "df.describe()"
   ]
  },
  {
   "cell_type": "code",
   "execution_count": 98,
   "metadata": {},
   "outputs": [
    {
     "data": {
      "text/plain": [
       "pandas.core.frame.DataFrame"
      ]
     },
     "execution_count": 98,
     "metadata": {},
     "output_type": "execute_result"
    }
   ],
   "source": [
    "type(df.describe())"
   ]
  },
  {
   "cell_type": "code",
   "execution_count": 103,
   "metadata": {},
   "outputs": [
    {
     "data": {
      "text/html": [
       "<div>\n",
       "<style scoped>\n",
       "    .dataframe tbody tr th:only-of-type {\n",
       "        vertical-align: middle;\n",
       "    }\n",
       "\n",
       "    .dataframe tbody tr th {\n",
       "        vertical-align: top;\n",
       "    }\n",
       "\n",
       "    .dataframe thead th {\n",
       "        text-align: right;\n",
       "    }\n",
       "</style>\n",
       "<table border=\"1\" class=\"dataframe\">\n",
       "  <thead>\n",
       "    <tr style=\"text-align: right;\">\n",
       "      <th></th>\n",
       "      <th>小区名称</th>\n",
       "      <th>户型</th>\n",
       "      <th>面积</th>\n",
       "      <th>区域</th>\n",
       "      <th>楼层</th>\n",
       "      <th>朝向</th>\n",
       "      <th>价格（W）</th>\n",
       "      <th>单价（平方米）</th>\n",
       "      <th>建筑时间</th>\n",
       "    </tr>\n",
       "  </thead>\n",
       "  <tbody>\n",
       "    <tr>\n",
       "      <td>1</td>\n",
       "      <td>碧云新天地（一期）</td>\n",
       "      <td>3室2厅</td>\n",
       "      <td>108.93</td>\n",
       "      <td>浦东</td>\n",
       "      <td>低区/6层</td>\n",
       "      <td>朝南</td>\n",
       "      <td>735</td>\n",
       "      <td>67474</td>\n",
       "      <td>2002年建</td>\n",
       "    </tr>\n",
       "    <tr>\n",
       "      <td>6</td>\n",
       "      <td>伟莱家园</td>\n",
       "      <td>2室2厅</td>\n",
       "      <td>100.15</td>\n",
       "      <td>浦东</td>\n",
       "      <td>中区/6层</td>\n",
       "      <td>朝南北</td>\n",
       "      <td>515</td>\n",
       "      <td>51422</td>\n",
       "      <td>2002年建</td>\n",
       "    </tr>\n",
       "    <tr>\n",
       "      <td>7</td>\n",
       "      <td>世茂滨江花园</td>\n",
       "      <td>3室2厅</td>\n",
       "      <td>260.39</td>\n",
       "      <td>浦东</td>\n",
       "      <td>中区/51层</td>\n",
       "      <td>朝西</td>\n",
       "      <td>2200</td>\n",
       "      <td>84488</td>\n",
       "      <td>NaN</td>\n",
       "    </tr>\n",
       "    <tr>\n",
       "      <td>9</td>\n",
       "      <td>证大家园（公寓）</td>\n",
       "      <td>3室2厅</td>\n",
       "      <td>122.75</td>\n",
       "      <td>浦东</td>\n",
       "      <td>低区/11层</td>\n",
       "      <td>朝南北</td>\n",
       "      <td>785</td>\n",
       "      <td>63951</td>\n",
       "      <td>2002年建</td>\n",
       "    </tr>\n",
       "    <tr>\n",
       "      <td>15</td>\n",
       "      <td>陆家嘴花园（一期）</td>\n",
       "      <td>3室2厅</td>\n",
       "      <td>156.45</td>\n",
       "      <td>浦东</td>\n",
       "      <td>中区/11层</td>\n",
       "      <td>朝南北</td>\n",
       "      <td>1400</td>\n",
       "      <td>89485</td>\n",
       "      <td>1999年建</td>\n",
       "    </tr>\n",
       "    <tr>\n",
       "      <td>...</td>\n",
       "      <td>...</td>\n",
       "      <td>...</td>\n",
       "      <td>...</td>\n",
       "      <td>...</td>\n",
       "      <td>...</td>\n",
       "      <td>...</td>\n",
       "      <td>...</td>\n",
       "      <td>...</td>\n",
       "      <td>...</td>\n",
       "    </tr>\n",
       "    <tr>\n",
       "      <td>28193</td>\n",
       "      <td>金昌苑</td>\n",
       "      <td>3室2厅</td>\n",
       "      <td>116.33</td>\n",
       "      <td>金山</td>\n",
       "      <td>中区/5层</td>\n",
       "      <td>朝南北</td>\n",
       "      <td>275</td>\n",
       "      <td>23639</td>\n",
       "      <td>2003年建</td>\n",
       "    </tr>\n",
       "    <tr>\n",
       "      <td>28194</td>\n",
       "      <td>棕榈湾花园</td>\n",
       "      <td>3室2厅</td>\n",
       "      <td>118.31</td>\n",
       "      <td>金山</td>\n",
       "      <td>低区/6层</td>\n",
       "      <td>朝南</td>\n",
       "      <td>330</td>\n",
       "      <td>27892</td>\n",
       "      <td>2004年建</td>\n",
       "    </tr>\n",
       "    <tr>\n",
       "      <td>28195</td>\n",
       "      <td>绿舟星城</td>\n",
       "      <td>3室2厅</td>\n",
       "      <td>102.77</td>\n",
       "      <td>崇明</td>\n",
       "      <td>低区/6层</td>\n",
       "      <td>朝南</td>\n",
       "      <td>180</td>\n",
       "      <td>17514</td>\n",
       "      <td>2011年建</td>\n",
       "    </tr>\n",
       "    <tr>\n",
       "      <td>28196</td>\n",
       "      <td>明珠花苑（崇明）</td>\n",
       "      <td>2室2厅</td>\n",
       "      <td>101.59</td>\n",
       "      <td>崇明</td>\n",
       "      <td>中区/6层</td>\n",
       "      <td>朝南北</td>\n",
       "      <td>205</td>\n",
       "      <td>20179</td>\n",
       "      <td>2004年建</td>\n",
       "    </tr>\n",
       "    <tr>\n",
       "      <td>28200</td>\n",
       "      <td>富源花苑</td>\n",
       "      <td>2室2厅</td>\n",
       "      <td>90.61</td>\n",
       "      <td>崇明</td>\n",
       "      <td>高区/6层</td>\n",
       "      <td>朝南北</td>\n",
       "      <td>120</td>\n",
       "      <td>13243</td>\n",
       "      <td>2004年建</td>\n",
       "    </tr>\n",
       "  </tbody>\n",
       "</table>\n",
       "<p>14100 rows × 9 columns</p>\n",
       "</div>"
      ],
      "text/plain": [
       "            小区名称    户型      面积  区域      楼层   朝向  价格（W）  单价（平方米）    建筑时间\n",
       "1      碧云新天地（一期）  3室2厅  108.93  浦东   低区/6层   朝南    735    67474  2002年建\n",
       "6           伟莱家园  2室2厅  100.15  浦东   中区/6层  朝南北    515    51422  2002年建\n",
       "7         世茂滨江花园  3室2厅  260.39  浦东  中区/51层   朝西   2200    84488     NaN\n",
       "9       证大家园（公寓）  3室2厅  122.75  浦东  低区/11层  朝南北    785    63951  2002年建\n",
       "15     陆家嘴花园（一期）  3室2厅  156.45  浦东  中区/11层  朝南北   1400    89485  1999年建\n",
       "...          ...   ...     ...  ..     ...  ...    ...      ...     ...\n",
       "28193        金昌苑  3室2厅  116.33  金山   中区/5层  朝南北    275    23639  2003年建\n",
       "28194      棕榈湾花园  3室2厅  118.31  金山   低区/6层   朝南    330    27892  2004年建\n",
       "28195       绿舟星城  3室2厅  102.77  崇明   低区/6层   朝南    180    17514  2011年建\n",
       "28196   明珠花苑（崇明）  2室2厅  101.59  崇明   中区/6层  朝南北    205    20179  2004年建\n",
       "28200       富源花苑  2室2厅   90.61  崇明   高区/6层  朝南北    120    13243  2004年建\n",
       "\n",
       "[14100 rows x 9 columns]"
      ]
     },
     "execution_count": 103,
     "metadata": {},
     "output_type": "execute_result"
    }
   ],
   "source": [
    "df[df['面积']>df['面积'].median()]"
   ]
  },
  {
   "cell_type": "code",
   "execution_count": 104,
   "metadata": {},
   "outputs": [
    {
     "data": {
      "text/plain": [
       "85.41"
      ]
     },
     "execution_count": 104,
     "metadata": {},
     "output_type": "execute_result"
    }
   ],
   "source": [
    "df['面积'].median()"
   ]
  },
  {
   "cell_type": "code",
   "execution_count": 112,
   "metadata": {},
   "outputs": [
    {
     "data": {
      "text/plain": [
       "85.41"
      ]
     },
     "execution_count": 112,
     "metadata": {},
     "output_type": "execute_result"
    }
   ],
   "source": [
    "df['面积'].sort_values().median()"
   ]
  },
  {
   "cell_type": "code",
   "execution_count": 210,
   "metadata": {},
   "outputs": [
    {
     "data": {
      "text/html": [
       "<div>\n",
       "<style scoped>\n",
       "    .dataframe tbody tr th:only-of-type {\n",
       "        vertical-align: middle;\n",
       "    }\n",
       "\n",
       "    .dataframe tbody tr th {\n",
       "        vertical-align: top;\n",
       "    }\n",
       "\n",
       "    .dataframe thead th {\n",
       "        text-align: right;\n",
       "    }\n",
       "</style>\n",
       "<table border=\"1\" class=\"dataframe\">\n",
       "  <thead>\n",
       "    <tr style=\"text-align: right;\">\n",
       "      <th></th>\n",
       "      <th>面积</th>\n",
       "      <th>价格（W）</th>\n",
       "      <th>单价（平方米）</th>\n",
       "    </tr>\n",
       "  </thead>\n",
       "  <tbody>\n",
       "    <tr>\n",
       "      <td>面积</td>\n",
       "      <td>1.000000</td>\n",
       "      <td>0.789856</td>\n",
       "      <td>0.043756</td>\n",
       "    </tr>\n",
       "    <tr>\n",
       "      <td>价格（W）</td>\n",
       "      <td>0.789856</td>\n",
       "      <td>1.000000</td>\n",
       "      <td>0.530081</td>\n",
       "    </tr>\n",
       "    <tr>\n",
       "      <td>单价（平方米）</td>\n",
       "      <td>0.043756</td>\n",
       "      <td>0.530081</td>\n",
       "      <td>1.000000</td>\n",
       "    </tr>\n",
       "  </tbody>\n",
       "</table>\n",
       "</div>"
      ],
      "text/plain": [
       "               面积     价格（W）   单价（平方米）\n",
       "面积       1.000000  0.789856  0.043756\n",
       "价格（W）    0.789856  1.000000  0.530081\n",
       "单价（平方米）  0.043756  0.530081  1.000000"
      ]
     },
     "execution_count": 210,
     "metadata": {},
     "output_type": "execute_result"
    }
   ],
   "source": [
    "df.corr()"
   ]
  },
  {
   "cell_type": "code",
   "execution_count": 214,
   "metadata": {},
   "outputs": [],
   "source": [
    "grouped1 = df[['价格（W）','单价（平方米）']].groupby(df['区域']).mean()"
   ]
  },
  {
   "cell_type": "code",
   "execution_count": 245,
   "metadata": {},
   "outputs": [
    {
     "data": {
      "text/html": [
       "<div>\n",
       "<style scoped>\n",
       "    .dataframe tbody tr th:only-of-type {\n",
       "        vertical-align: middle;\n",
       "    }\n",
       "\n",
       "    .dataframe tbody tr th {\n",
       "        vertical-align: top;\n",
       "    }\n",
       "\n",
       "    .dataframe thead th {\n",
       "        text-align: right;\n",
       "    }\n",
       "</style>\n",
       "<table border=\"1\" class=\"dataframe\">\n",
       "  <thead>\n",
       "    <tr style=\"text-align: right;\">\n",
       "      <th></th>\n",
       "      <th>价格（W）</th>\n",
       "      <th>单价（平方米）</th>\n",
       "    </tr>\n",
       "  </thead>\n",
       "  <tbody>\n",
       "    <tr>\n",
       "      <td>count</td>\n",
       "      <td>17.000000</td>\n",
       "      <td>17.000000</td>\n",
       "    </tr>\n",
       "    <tr>\n",
       "      <td>mean</td>\n",
       "      <td>553.740820</td>\n",
       "      <td>56657.432731</td>\n",
       "    </tr>\n",
       "    <tr>\n",
       "      <td>std</td>\n",
       "      <td>223.354347</td>\n",
       "      <td>22098.907679</td>\n",
       "    </tr>\n",
       "    <tr>\n",
       "      <td>min</td>\n",
       "      <td>175.000000</td>\n",
       "      <td>19754.333333</td>\n",
       "    </tr>\n",
       "    <tr>\n",
       "      <td>25%</td>\n",
       "      <td>427.021356</td>\n",
       "      <td>41137.227317</td>\n",
       "    </tr>\n",
       "    <tr>\n",
       "      <td>50%</td>\n",
       "      <td>559.083100</td>\n",
       "      <td>62804.779915</td>\n",
       "    </tr>\n",
       "    <tr>\n",
       "      <td>75%</td>\n",
       "      <td>671.793607</td>\n",
       "      <td>69913.678109</td>\n",
       "    </tr>\n",
       "    <tr>\n",
       "      <td>max</td>\n",
       "      <td>1059.268246</td>\n",
       "      <td>91857.789474</td>\n",
       "    </tr>\n",
       "  </tbody>\n",
       "</table>\n",
       "</div>"
      ],
      "text/plain": [
       "             价格（W）       单价（平方米）\n",
       "count    17.000000     17.000000\n",
       "mean    553.740820  56657.432731\n",
       "std     223.354347  22098.907679\n",
       "min     175.000000  19754.333333\n",
       "25%     427.021356  41137.227317\n",
       "50%     559.083100  62804.779915\n",
       "75%     671.793607  69913.678109\n",
       "max    1059.268246  91857.789474"
      ]
     },
     "execution_count": 245,
     "metadata": {},
     "output_type": "execute_result"
    }
   ],
   "source": [
    "grouped1.describe()"
   ]
  },
  {
   "cell_type": "code",
   "execution_count": 301,
   "metadata": {},
   "outputs": [
    {
     "name": "stderr",
     "output_type": "stream",
     "text": [
      "C:\\ProgramData\\Anaconda3\\lib\\site-packages\\ipykernel_launcher.py:6: MatplotlibDeprecationWarning: \n",
      "The 'normed' kwarg was deprecated in Matplotlib 2.1 and will be removed in 3.1. Use 'density' instead.\n",
      "  \n"
     ]
    },
    {
     "data": {
      "text/plain": [
       "{'whiskers': [<matplotlib.lines.Line2D at 0x2092a4d0e10>,\n",
       "  <matplotlib.lines.Line2D at 0x2092a510d68>],\n",
       " 'caps': [<matplotlib.lines.Line2D at 0x2092a510e48>,\n",
       "  <matplotlib.lines.Line2D at 0x2092a51b438>],\n",
       " 'boxes': [<matplotlib.lines.Line2D at 0x2092a510630>],\n",
       " 'medians': [<matplotlib.lines.Line2D at 0x2092a51b780>],\n",
       " 'fliers': [<matplotlib.lines.Line2D at 0x2092a51bac8>],\n",
       " 'means': []}"
      ]
     },
     "execution_count": 301,
     "metadata": {},
     "output_type": "execute_result"
    },
    {
     "data": {
      "image/png": "[encoded data removed]",
      "text/plain": [
       "<Figure size 432x288 with 5 Axes>"
      ]
     },
     "metadata": {
      "needs_background": "light"
     },
     "output_type": "display_data"
    }
   ],
   "source": [
    "plt.subplot(2,3,1)\n",
    "plt.bar(df['面积'].value_counts().index,df['面积'].value_counts().values)\n",
    "plt.subplot(2,3,2)\n",
    "plt.hist(df['面积'])\n",
    "plt.subplot(2,3,3)\n",
    "plt.hist(df['面积'],60,histtype='stepfilled',facecolor='g',alpha=0.75)\n",
    "#60 是直方图的个数\n",
    "plt.subplot(2,3,4)\n",
    "plt.plot(df['面积'])\n",
    "plt.subplot(2,3,5)\n",
    "plt.boxplot(df['面积'])"
   ]
  },
  {
   "cell_type": "code",
   "execution_count": 280,
   "metadata": {},
   "outputs": [
    {
     "data": {
      "text/plain": [
       "(array([2.5913e+04, 1.9420e+03, 2.2200e+02, 8.0000e+01, 2.2000e+01,\n",
       "        1.2000e+01, 3.0000e+00, 5.0000e+00, 1.0000e+00, 1.0000e+00]),\n",
       " array([   50.,  1165.,  2280.,  3395.,  4510.,  5625.,  6740.,  7855.,\n",
       "         8970., 10085., 11200.]),\n",
       " <a list of 10 Patch objects>)"
      ]
     },
     "execution_count": 280,
     "metadata": {},
     "output_type": "execute_result"
    },
    {
     "data": {
      "image/png": "[encoded data removed]",
      "text/plain": [
       "<Figure size 432x288 with 1 Axes>"
      ]
     },
     "metadata": {
      "needs_background": "light"
     },
     "output_type": "display_data"
    }
   ],
   "source": [
    "plt.hist(df['价格（W）'])"
   ]
  },
  {
   "cell_type": "code",
   "execution_count": 283,
   "metadata": {
    "scrolled": true
   },
   "outputs": [
    {
     "data": {
      "text/plain": [
       "[<matplotlib.lines.Line2D at 0x209045c1400>]"
      ]
     },
     "execution_count": 283,
     "metadata": {},
     "output_type": "execute_result"
    },
    {
     "data": {
      "image/png": "[encoded data removed]",
      "text/plain": [
       "<Figure size 432x288 with 1 Axes>"
      ]
     },
     "metadata": {
      "needs_background": "light"
     },
     "output_type": "display_data"
    }
   ],
   "source": [
    "plt.plot(df['价格（W）'])"
   ]
  },
  {
   "cell_type": "code",
   "execution_count": 285,
   "metadata": {},
   "outputs": [
    {
     "data": {
      "text/plain": [
       "{'whiskers': [<matplotlib.lines.Line2D at 0x20904663b38>,\n",
       "  <matplotlib.lines.Line2D at 0x20904663e80>],\n",
       " 'caps': [<matplotlib.lines.Line2D at 0x20904663f60>,\n",
       "  <matplotlib.lines.Line2D at 0x2090466c550>],\n",
       " 'boxes': [<matplotlib.lines.Line2D at 0x20904663780>],\n",
       " 'medians': [<matplotlib.lines.Line2D at 0x2090466c898>],\n",
       " 'fliers': [<matplotlib.lines.Line2D at 0x2090466cbe0>],\n",
       " 'means': []}"
      ]
     },
     "execution_count": 285,
     "metadata": {},
     "output_type": "execute_result"
    },
    {
     "data": {
      "image/png": "[encoded data removed]",
      "text/plain": [
       "<Figure size 432x288 with 1 Axes>"
      ]
     },
     "metadata": {
      "needs_background": "light"
     },
     "output_type": "display_data"
    }
   ],
   "source": [
    "plt.boxplot(df['价格（W）'])"
   ]
  },
  {
   "cell_type": "code",
   "execution_count": 256,
   "metadata": {},
   "outputs": [
    {
     "data": {
      "text/plain": [
       "Text(8, -100, '价格')"
      ]
     },
     "execution_count": 256,
     "metadata": {},
     "output_type": "execute_result"
    },
    {
     "data": {
      "image/png": "[encoded data removed]",
      "text/plain": [
       "<Figure size 432x288 with 2 Axes>"
      ]
     },
     "metadata": {
      "needs_background": "light"
     },
     "output_type": "display_data"
    }
   ],
   "source": [
    "p1=plt.plot(grouped1['价格（W）'],'r--',label ='价格')\n",
    "plt.xlabel('区域')\n",
    "plt.ylabel('价格')\n",
    "plt.legend()\n",
    "# 添加一条坐标轴，y轴的\n",
    "plt.twinx()\n",
    "p2=plt.plot(grouped1['单价（平方米）'],'g*-',label ='单价') \n",
    "plt.ylabel('单价')\n",
    "plt.legend()\n",
    "plt.text(8,-100,'价格')"
   ]
  },
  {
   "cell_type": "code",
   "execution_count": 281,
   "metadata": {},
   "outputs": [
    {
     "data": {
      "text/plain": [
       "(array([ 1236.,  6780., 10653.,  6488.,  2255.,   562.,   137.,    60.,\n",
       "           19.,    11.]),\n",
       " array([  8996. ,  28060.3,  47124.6,  66188.9,  85253.2, 104317.5,\n",
       "        123381.8, 142446.1, 161510.4, 180574.7, 199639. ]),\n",
       " <a list of 10 Patch objects>)"
      ]
     },
     "execution_count": 281,
     "metadata": {},
     "output_type": "execute_result"
    },
    {
     "data": {
      "image/png": "[encoded data removed]",
      "text/plain": [
       "<Figure size 432x288 with 1 Axes>"
      ]
     },
     "metadata": {
      "needs_background": "light"
     },
     "output_type": "display_data"
    }
   ],
   "source": [
    "plt.hist(df['单价（平方米）'])"
   ]
  },
  {
   "cell_type": "code",
   "execution_count": 286,
   "metadata": {},
   "outputs": [
    {
     "data": {
      "text/plain": [
       "[<matplotlib.lines.Line2D at 0x20904681ba8>]"
      ]
     },
     "execution_count": 286,
     "metadata": {},
     "output_type": "execute_result"
    },
    {
     "data": {
      "image/png": "[encoded data removed]",
      "text/plain": [
       "<Figure size 432x288 with 1 Axes>"
      ]
     },
     "metadata": {
      "needs_background": "light"
     },
     "output_type": "display_data"
    }
   ],
   "source": [
    "plt.plot(df['单价（平方米）'])"
   ]
  },
  {
   "cell_type": "code",
   "execution_count": 287,
   "metadata": {},
   "outputs": [
    {
     "data": {
      "text/plain": [
       "{'whiskers': [<matplotlib.lines.Line2D at 0x20904706a20>,\n",
       "  <matplotlib.lines.Line2D at 0x20904706d68>],\n",
       " 'caps': [<matplotlib.lines.Line2D at 0x20904706e48>,\n",
       "  <matplotlib.lines.Line2D at 0x20904710438>],\n",
       " 'boxes': [<matplotlib.lines.Line2D at 0x209047066d8>],\n",
       " 'medians': [<matplotlib.lines.Line2D at 0x20904710780>],\n",
       " 'fliers': [<matplotlib.lines.Line2D at 0x20904710ac8>],\n",
       " 'means': []}"
      ]
     },
     "execution_count": 287,
     "metadata": {},
     "output_type": "execute_result"
    },
    {
     "data": {
      "image/png": "[encoded data removed]",
      "text/plain": [
       "<Figure size 432x288 with 1 Axes>"
      ]
     },
     "metadata": {
      "needs_background": "light"
     },
     "output_type": "display_data"
    }
   ],
   "source": [
    "plt.boxplot(df['单价（平方米）'])"
   ]
  },
  {
   "cell_type": "code",
   "execution_count": null,
   "metadata": {},
   "outputs": [],
   "source": [
    "# 计算'成交量'先按'位置'再按'卖家'分组后的平均值\n",
    "grouped2 = df['成交量'].groupby([df['位置'], df['卖家']]).mean()\n",
    "# 计算先按'位置'再按'卖家'分组后的所有指标(如果可以计算平均值)的平均值\n",
    "grouped3 = df.groupby([df['位置'], df['卖家']]).mean()"
   ]
  },
  {
   "cell_type": "code",
   "execution_count": null,
   "metadata": {},
   "outputs": [],
   "source": [
    "ax=plt.subplot(111,projection='polar')"
   ]
  }
 ],
 "metadata": {
  "kernelspec": {
   "display_name": "Python 3",
   "language": "python",
   "name": "python3"
  },
  "language_info": {
   "codemirror_mode": {
    "name": "ipython",
    "version": 3
   },
   "file_extension": ".py",
   "mimetype": "text/x-python",
   "name": "python",
   "nbconvert_exporter": "python",
   "pygments_lexer": "ipython3",
   "version": "3.7.3"
  }
 },
 "nbformat": 4,
 "nbformat_minor": 2
}
