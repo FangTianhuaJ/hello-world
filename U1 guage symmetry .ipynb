{
 "cells": [
  {
   "cell_type": "markdown",
   "metadata": {
    "deletable": true,
    "editable": true
   },
   "source": [
    "Exactly two months,I've been back in institute. I'm still on my way to engage myself in fundamental experiments and concepts.I'm delightful and satisfied get myseif into a part of this  large  and warmly family where I've got a lot of  growth in all aspects and the same time encountered unprecedented chanlenges. The most obvious change imposed on me is the serenity added in the recesses of your mind. Everthing is undergoing imperceptible changes incessantly includes me, however I'm not awared of whether it's  the desired originally.\n",
    "\n",
    "I've  been wanting  to share something I've acquired and reflected in my understanding of some basic physics concepts. It's just the moment I follow my sister do experiments some ideas occurs to me and this idea facilitate me to get some ideas shared to make more progress.\n",
    "\n",
    "I've recently focus on some books ralated to topological condensed physics involved some concepts covering Berry phase, quantum hall effect, majorana zero mode and ect. \n",
    "I want to share something basic and helpful to understang the deep physics behind the relevant topological physics. However , it's still a long way to get a syatematic understanding to the deep basic physics for me  so I'm here to represent some piceses in my way to get the ultimate goal step by step.\n",
    "\n",
    "As a start, I want to talk some my  perspectives in gauge symmetry  in Scrodinger eqution."
   ]
  },
  {
   "cell_type": "markdown",
   "metadata": {
    "deletable": true,
    "editable": true
   },
   "source": [
    "We all familiar with a fact three is always a phase uncertainty in wave function in the study of quantum mechanics. That is to say the wave function $\\psi$ and its phase shift counterpart $\\psi \\prime=e^{i\\phi}\\psi$ describe the same thing (maybe a better word than thing). However, If we inspect deeply we will find  the phase uncertainty existing here is a global phase, for example, the phase shift should not be affected by r and t so its a global phase ,for example, a constant  for most cases. Next we will go further to insect this globle phase which get its professional name - Global $U(1)$ phase symmetry and most important corresponding ramification local $U(1)$ phase symmetry which says the global phase in not a invariant but changes as a function of time and position so it changes locally."
   ]
  },
  {
   "cell_type": "markdown",
   "metadata": {
    "deletable": true,
    "editable": true
   },
   "source": [
    "## Global $U(1)$ phase symmetry and particle conservation \n",
    "\n",
    "Schrodinger equation is invariant under Global $U(1)$ phase symmetry.\n",
    "\n",
    "\\begin{equation}\\label{s-1}\n",
    "i\\frac{\\partial}{\\partial t} \\psi(\\vec{r},t)=\\left[ -\\frac{1}{2m} \\nabla^2 + V(\\vec{r})\\right] \\psi (\\vec{r},t)\n",
    "\\end{equation}\n",
    "\n",
    "Next we carry out a global phase transformation, which is a change by shifting the phase of every point by the same amount.\n",
    "\n",
    "\\begin{equation}\\label{s-2}\n",
    "\\psi \\prime=e^{i\\phi}\\psi,\\\\\n",
    "\\text{where $\\phi$ is a constant}\n",
    "\\end{equation}"
   ]
  },
  {
   "cell_type": "markdown",
   "metadata": {
    "deletable": true,
    "editable": true
   },
   "source": [
    "Its fairly obvious the eqaution is invariant under the global phase change as the phase is a constant.\n",
    "\n",
    "Symmetry implies conservation law. Its well known the corresponding symmetry is particle conservation(total particle density probability is conserved. )\n",
    "\n",
    "\\begin{equation}\\label{s-3}\n",
    "\\partial _{t} \\int d r \\langle \\psi | \\psi \\rangle =0\n",
    "\\end{equation}"
   ]
  },
  {
   "cell_type": "markdown",
   "metadata": {
    "deletable": true,
    "editable": true
   },
   "source": [
    "## Local  $U(1)$ phase symmetry and guage fields\n",
    "\n",
    "Q:Is Schrodinger equation invariant If phase locally depend on position and time?\n",
    "\n",
    "Let's explore the answers following the same similar routine. Carry out a local phase shift:\n",
    "\n",
    "$\\psi \\prime(\\vec{r},t) =e^{i\\phi(\\vec{r},t)}\\psi(\\vec{r},t)$\n",
    "\n",
    "Substitute it into the Schrodinger equation:\n",
    "\n"
   ]
  },
  {
   "cell_type": "markdown",
   "metadata": {
    "deletable": true,
    "editable": true
   },
   "source": [
    "\n",
    "\\begin{align}\n",
    "i\\frac{\\partial}{\\partial t} \\psi \\prime &=\\left[i\\frac{\\partial}{\\partial t}e^{i\\phi(\\vec{r},t)} \\right]\\psi +e^{i\\phi(\\vec{r},t)} i\\frac{\\partial}{\\partial t}\\psi\\\\\n",
    "&=\\left( -\\frac{\\partial}{\\partial t}\\phi(\\vec{r},t) \\right) \\psi \\prime + e^{i\\phi(\\vec{r},t)} \\left[ -\\frac{1}{2m} \\nabla^2 + V(\\vec{r})\\right] \\psi \n",
    "\\\\\n",
    "&=\\left( -\\frac{\\partial}{\\partial t}\\phi(\\vec{r},t) \\right) \\psi \\prime + e^{i\\phi(\\vec{r},t)}  \\frac{-1}{2m} \\nabla^2 e^{-i\\phi(\\vec{r},t)}\\psi \\prime  + V(\\vec{r})\\psi \\prime \n",
    "(\\vec{r},t)\n",
    "\\end{align}"
   ]
  },
  {
   "cell_type": "markdown",
   "metadata": {
    "deletable": true,
    "editable": true
   },
   "source": [
    "\\begin{align}\n",
    "e^{i\\phi(\\vec{r},t)}  \\frac{-1}{2m} \\nabla^2 e^{-i\\phi(\\vec{r},t)}\\psi \\prime&=e^{i\\phi(\\vec{r},t)}  \\frac{-1}{2m} \\nabla \\cdot \\nabla \\left[  e^{-i\\phi(\\vec{r},t)}\\psi \\prime \\right]\\\\ \n",
    "&=e^{i\\phi(\\vec{r},t)}  \\frac{-1}{2m} \\nabla \\cdot \\left\\lbrace (-i \\nabla\\phi(\\vec{r},t) ) e^{-i\\phi(\\vec{r},t)}\\psi \\prime + e^{-i\\phi(\\vec{r},t)} \\nabla \\psi \\prime  \\right\\rbrace \\\\\n",
    "&=e^{i\\phi(\\vec{r},t)}  \\frac{-1}{2m} \\left\\lbrace \\left( -i \\nabla^2 \\phi(\\vec{r},t))\\right)  e^{-i\\phi(\\vec{r},t)}\\psi \\prime  + -i \\nabla\\phi(\\vec{r},t) ) \\cdot \\nabla \\left( e^{-i\\phi(\\vec{r},t)}\\psi \\prime \\right)\n",
    " + e^{-i\\phi(\\vec{r},t)} (-i \\nabla\\phi(\\vec{r},t)) \\cdot   \\nabla \\psi \\prime +  e^{-i\\phi(\\vec{r},t)}\n",
    " \\nabla^2 \\psi \\prime \\right\\rbrace\\\\\n",
    "&=-\\frac{1}{2m} \\nabla^2 \\psi \\prime  + \\frac{i}{m}[\\nabla\\phi(\\vec{r},t) \\cdot \\nabla \\psi \\prime]+ \\frac{1}{2m}[(i\\nabla ^2\\phi(\\vec{r},t)) \\cdot \\psi \\prime+ (i\\nabla\\phi(\\vec{r},t))^2 \\cdot \\psi \\prime]\n",
    "\\end{align}"
   ]
  },
  {
   "cell_type": "markdown",
   "metadata": {
    "deletable": true,
    "editable": true
   },
   "source": [
    "After a little bit of simplification, we arrive at a compact form.\n",
    "\n",
    "\\begin{align}\n",
    "i\\frac{\\partial}{\\partial t} \\psi \\prime =\\left( -\\frac{\\partial}{\\partial t}\\phi(\\vec{r},t) \\right) \\psi \\prime -\\frac{1}{2m} \\nabla^2 \\psi \\prime  + \\frac{i}{m}[\\nabla\\phi(\\vec{r},t) \\cdot \\nabla \\psi \\prime]+ \\frac{1}{2m}[(i\\nabla ^2\\phi(\\vec{r},t)) \\cdot \\psi \\prime+ (i\\nabla\\phi(\\vec{r},t))^2 \\cdot \\psi \\prime]\n",
    "\\end{align}\n",
    "\n",
    "\\begin{equation}\\label{s-4}\n",
    "\\left[i\\frac{\\partial}{\\partial t} +  \\frac{\\partial}{\\partial t}\\phi(\\vec{r},t)  \\right] \\psi \\prime (\\vec{r},t) =\\left[  \\frac{[-i\\nabla - \\nabla \\phi(\\vec{r},t) ]^2}{2m} + V(\\vec{r}) \\right] \\psi (\\vec{r},t)\n",
    "\\end{equation}\n",
    "\n",
    "Now,we negatively get the conclusion that the SE(Schrodinger Equation) is not conserved in a local phase shift."
   ]
  },
  {
   "cell_type": "markdown",
   "metadata": {
    "deletable": true,
    "editable": true
   },
   "source": [
    "## It's amazing how things turned out in their familiar ways.\n",
    "\n",
    "It's always astonished we are so familiar with the SE with conserved local phase symmetry.\n",
    "\n",
    "A: a charged particle \n",
    "\n",
    "It also recalls an puzzle plaguing me a long time why a  Local $U(1)$ phase symmetry can get the total Mexwell's electromagnetic theorem.  We can get touched from this reflection.\n",
    "\n",
    "Recall the familiar substitution in quantum mechanics,\n",
    "\\begin{align}\n",
    "\\vec{p} \\longmapsto \\vec{p} + \\frac{e \\vec{A}}{c}\\\\\n",
    "i\\frac{\\partial}{\\partial t}\\longmapsto i\\frac{\\partial}{\\partial t}-e\\varphi\n",
    "\\end{align}\n",
    "We obtain the familiar SE of a charged particles in electromagnetic field.\n",
    "\\begin{equation}\\label{s-5}\n",
    "\\left[i\\frac{\\partial}{\\partial t}-e\\varphi  \\right] \\psi  (\\vec{r},t) =\\left[  \\frac{[-i\\nabla -  \\frac{e \\vec{A}}{c} ]^2}{2m} + V(\\vec{r}) \\right] \\psi (\\vec{r},t)\n",
    "\\end{equation}\n",
    "\n",
    "Next, we check the already known fact the SE is guage invariant under electromagnetic  guage transformation which we have already known in a junior student.\n",
    "\n",
    "Lets renew the deduction. Firstly, the guage transformation\n",
    "\\begin{align}\n",
    "\\vec{A} \\longmapsto \\vec{A}\\prime=\\vec{A} +\\frac{c \\hbar}{e} \\nabla  \\phi (\\vec{r},t) \\\\\n",
    "\\varphi \\longmapsto \\varphi \\prime= \\varphi - \\frac{ \\hbar}{e} \\frac{\\partial}{\\partial t} \\phi  (\\vec{r},t)\n",
    "\\end{align}\n",
    "The corresponding transformation for wavefunction take the following form.\n",
    "\\begin{equation}\\label{s-6}\n",
    "\\psi(\\vec{r},t) \\longmapsto \\psi \\prime (\\vec{r},t)=e^{i \\phi (\\vec{r},t) }\\psi(\\vec{r},t)\n",
    "\\end{equation}\n",
    "\n",
    "\n",
    "The exactly same as previous disposal we can leave it aside and justify the correctness at any time.(Writing formulas is  painful in latex).\n",
    "\n",
    "\\begin{align}\n",
    "\\left[i\\frac{\\partial}{\\partial t}-e\\varphi  \\right] \\psi  (\\vec{r},t) =\\left[  \\frac{[-i\\nabla -  \\frac{e \\vec{A}}{c} ]^2}{2m} + V(\\vec{r}) \\right] \\psi (\\vec{r},t)\\\\\n",
    "\\left[i\\frac{\\partial}{\\partial t}-e\\varphi  \\right ] \\psi  (\\vec{r},t) =\\left[  \\frac{[-i\\nabla -  \\frac{e \\vec{A}}{c} ]^2}{2m} + V(\\vec{r}) \\right] \\psi (\\vec{r},t)\\\\\n",
    "\\left[i\\frac{\\partial}{\\partial t}-e\\varphi +\\hbar \\frac{\\partial}{\\partial t} \\phi  (\\vec{r},t) \\right] \\psi \\prime (\\vec{r},t) =\\left[  \\frac{[-i\\nabla -  \\frac{e \\vec{A}}{c} +\\hbar \\nabla  \\phi (\\vec{r},t)]^2}{2m} + V(\\vec{r}) \\right] \\psi \\prime(\\vec{r},t)\n",
    "\\end{align}\n"
   ]
  },
  {
   "cell_type": "markdown",
   "metadata": {
    "deletable": true,
    "editable": true
   },
   "source": [
    "## Summary\n",
    "We will obtain the formal quivalent representation as we've seen in electromagnetism if we incorporate the constants $c \\hbar /e $ into the definition of $\\phi$.\n",
    "The acquainted guage transformation.\n",
    "\\begin{align}\n",
    "\\psi(\\vec{r},t) \\longmapsto \\psi \\prime (\\vec{r},t)=e^{i \\frac{e}{c \\hbar}\\phi (\\vec{r},t) }\\psi(\\vec{r},t)\\\\\n",
    "\\vec{A} \\longmapsto \\vec{A}\\prime=\\vec{A} + \\nabla  \\phi (\\vec{r},t) \\\\\n",
    "\\varphi \\longmapsto \\varphi \\prime= \\varphi - \\frac{1 }{c} \\frac{\\partial}{\\partial t} \\phi  (\\vec{r},t)\n",
    "\\end{align}\n",
    "\n",
    "In relativistic  form,\n",
    "\\begin{align}\n",
    "\\psi(x^{\\mu}) \\longmapsto \\psi \\prime (x^{\\mu})=e^{i \\frac{e}{c \\hbar}\\phi (x^{\\mu}) }\\psi(x^{\\mu})\\\\\n",
    "A_{\\mu}\\longmapsto A_{\\mu}^{\\prime}=A_{\\mu}+ \\partial_{\\mu}\\phi (x^{\\mu})\\\\\n",
    "F_{\\mu \\nu}=\\frac{\\partial A_{\\mu}}{\\partial x^{\\nu}}+\\frac{\\partial A_{\\nu}}{\\partial x^{\\mu}}\n",
    "\\end{align}\n",
    "\n",
    "The next stage we will get to the point--Berry phase and Berry Curvature. As we've discussed here,the Bloch wave function displays very similar behavior and there exist the same Local  $U(1)$ guage  symmetry. However, our satge  expand to mysterious  k-space.\n",
    "\n",
    "## Sleepy. Good night"
   ]
  },
  {
   "cell_type": "markdown",
   "metadata": {
    "deletable": true,
    "editable": true
   },
   "source": []
  }
 ],
 "metadata": {
  "kernelspec": {
   "display_name": "Python 3",
   "language": "python",
   "name": "python3"
  },
  "language_info": {
   "codemirror_mode": {
    "name": "ipython",
    "version": 3
   },
   "file_extension": ".py",
   "mimetype": "text/x-python",
   "name": "python",
   "nbconvert_exporter": "python",
   "pygments_lexer": "ipython3",
   "version": "3.5.2"
  }
 },
 "nbformat": 4,
 "nbformat_minor": 2
}
